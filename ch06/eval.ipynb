{
 "cells": [
  {
   "cell_type": "code",
   "execution_count": null,
   "id": "1d49cd91",
   "metadata": {},
   "outputs": [],
   "source": [
    "# coding: utf-8\n",
    "import sys\n",
    "sys.path.append('..')\n",
    "from rnnlm import Rnnlm\n",
    "from better_rnnlm import BetterRnnlm\n",
    "from dataset import ptb\n",
    "from common.util import eval_perplexity\n",
    "\n",
    "\n",
    "if __name__ == '__main__':\n",
    "    model = Rnnlm()\n",
    "    #model = BetterRnnlm()\n",
    "\n",
    "    # 学習済みのパラメータの読み込み\n",
    "    model.load_params()\n",
    "\n",
    "    corpus, _, _ = ptb.load_data('test')\n",
    "\n",
    "    model.reset_state()\n",
    "    ppl_test = eval_perplexity(model, corpus)\n",
    "    print('test perplexity: ', ppl_test)"
   ]
  }
 ],
 "metadata": {},
 "nbformat": 4,
 "nbformat_minor": 5
}
