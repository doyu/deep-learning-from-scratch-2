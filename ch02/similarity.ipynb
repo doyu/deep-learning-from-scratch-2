{
 "cells": [
  {
   "cell_type": "code",
   "execution_count": null,
   "id": "52ddf853",
   "metadata": {},
   "outputs": [],
   "source": [
    "# coding: utf-8\n",
    "import sys\n",
    "sys.path.append('..')\n",
    "from common.util import preprocess, create_co_matrix, cos_similarity\n",
    "\n",
    "\n",
    "text = 'You say goodbye and I say hello.'\n",
    "corpus, word_to_id, id_to_word = preprocess(text)\n",
    "vocab_size = len(word_to_id)\n",
    "C = create_co_matrix(corpus, vocab_size)\n",
    "\n",
    "c0 = C[word_to_id['you']]  #「you」の単語ベクトル\n",
    "c1 = C[word_to_id['i']]  #「i」の単語ベクトル\n",
    "print(cos_similarity(c0, c1))"
   ]
  }
 ],
 "metadata": {},
 "nbformat": 4,
 "nbformat_minor": 5
}
