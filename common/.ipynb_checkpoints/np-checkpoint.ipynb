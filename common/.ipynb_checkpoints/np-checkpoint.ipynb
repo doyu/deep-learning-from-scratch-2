{
 "cells": [
  {
   "cell_type": "code",
   "execution_count": null,
   "id": "b62be913",
   "metadata": {},
   "outputs": [],
   "source": [
    "# coding: utf-8\n",
    "from common.config import GPU\n",
    "\n",
    "\n",
    "if GPU:\n",
    "    import cupy as np\n",
    "    np.cuda.set_allocator(np.cuda.MemoryPool().malloc)\n",
    "\n",
    "    print('\\033[92m' + '-' * 60 + '\\033[0m')\n",
    "    print(' ' * 23 + '\\033[92mGPU Mode (cupy)\\033[0m')\n",
    "    print('\\033[92m' + '-' * 60 + '\\033[0m\\n')\n",
    "else:\n",
    "    import numpy as np"
   ]
  }
 ],
 "metadata": {},
 "nbformat": 4,
 "nbformat_minor": 5
}
